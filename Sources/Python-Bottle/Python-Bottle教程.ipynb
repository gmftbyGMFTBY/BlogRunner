{
 "cells": [
  {
   "cell_type": "markdown",
   "metadata": {},
   "source": [
    "## Bottle框架简介\n",
    "* Bottle的基本设计理念\n",
    "    * URL 映射 : 将我们的URL映射到具体的函数上，实现处理\n",
    "    * 模板引擎\n",
    "    * Utiles : 基础功能，访问以及修改对应的表单数据，文件，cookies，HTTP头等元数据\n",
    "    * Server"
   ]
  },
  {
   "cell_type": "markdown",
   "metadata": {
    "collapsed": true
   },
   "source": [
    "## Bottle路由\n",
    "Bottle中的开发理念是使用路由route将所有的请求都绑定到对应的函数上，对请求的解析都是使用函数完成"
   ]
  },
  {
   "cell_type": "markdown",
   "metadata": {},
   "source": [
    "## Bottle模板\n",
    "内置的模板引擎可以使用\n",
    "    * template()\n",
    "    * view()\n",
    "两种函数实现模板HTML渲染工作，我们只需要提供**模板的名字**和**提供给模板的变量**即可  \n",
    "模板存储的路径可以使用模块内的列表变量**bottle.TEMPLATE_PATH**(一般都是['.' , './view'] , 当然可以动态的修改)获得\n",
    "\n",
    "1. 在bottle的py文件下，我们创建对应的.tpl的html模板文件(['.' , './views']下都可以自动找到)，我们只需要使用函数template制定模板文件的名称和对应的使用需要的变量就可以\n",
    "\n",
    "2. 模板参数传递\n",
    "    * 在.tpl文件中定义我们的变量的名称，变量使用\n",
    "        ```{{}}```\n",
    "      的方式标明\n",
    "    * 在py文件中，我们在template函数的之后的参数中使用字典传递方式传递对应的参数\n",
    "    ```\n",
    "    template('template_name(可以不用加tpl后缀)' , tname = name , tage = age)\n",
    "    ```\n",
    "3. view 的使用方式和参数的传递\n",
    "    view 用做装饰器，参数是指定的模板文件的名称，函数的返回值是字典型的参数\n",
    "４． 关于我们的模板文件的一些说明\n",
    "    * 模板文件中{{var}}制定变量\n",
    "    * var可以是python的数据结构，并且可以使用python中的语法(列表的索引，字典的获取函数...)\n",
    "    * 只要在 {{...}} 中的 Python 语句返回一个字符串或有一个字符串的表达形式，它就是一个有效的语句。"
   ]
  },
  {
   "cell_type": "markdown",
   "metadata": {},
   "source": [
    "## 模板具体语法\n",
    "* 嵌入python代码\n",
    "    * 一行使用%开头代表这一行是一个python代码块，我们对这种类python的代码只需要在末尾显示的添加%end来申明代码块的结束  \n",
    "    * 没有用%开头的行一行普通的html文本渲染"
   ]
  },
  {
   "cell_type": "markdown",
   "metadata": {},
   "source": [
    "```\n",
    "<html>\n",
    "  <head><title>登录页面</title></head>\n",
    "  <body><p><h2>管理员登录</h2></p>\n",
    "    <p><h2>会员信息</h2></p>\n",
    "    %if tname:\n",
    "    姓名:{{tname}}</br>\n",
    "    %end\n",
    "    <p></p>\n",
    "    %if tnum:\n",
    "    tnum:{{tnum}}</br>\n",
    "    %else:\n",
    "    tnum没有定义\n",
    "    %end\n",
    "    <p>{{get('tnum','666')}}在没有定义tnum的时候会用这句语句来进行赋值，定义了就不会执行</p>\n",
    "    <p></p>\n",
    "    %for i in tbook:\n",
    "    {{i}}</br>\n",
    "    %end\n",
    "  </body>\n",
    "</html>```"
   ]
  },
  {
   "cell_type": "markdown",
   "metadata": {},
   "source": [
    "* 模板嵌套\n",
    "    * %include('tpl_name.tpl')\n",
    "        加载其他模板使用到当前的%include这里\n",
    "    ```\n",
    "    base.tpl\n",
    "    <html>\n",
    "      <head>\n",
    "        <title>{{get('title','base.tpl')}}</title>\n",
    "      </head>\n",
    "      <body>\n",
    "        <h2>h2</h2>\n",
    "        <div>\n",
    "          在这里加载一个memu.tpl模板文件(views文件夹后者当前目录下)\n",
    "          %include('memu.tpl')\n",
    "        </div>\n",
    "      </body>\n",
    "    </html>\n",
    "    ```\n",
    "    ```\n",
    "    memu.tpl\n",
    "    <ul>\n",
    "      <li>python</li>\n",
    "      <li>linux</li>\n",
    "      <li>php</li>\n",
    "      <li>c</li>\n",
    "    </ul>\n",
    "    ```"
   ]
  },
  {
   "cell_type": "markdown",
   "metadata": {},
   "source": [
    "* 模板继承\n",
    "    * %rebase tpl_name ...kargvs\n",
    "        * 继承上层模板，将当前的模板嵌套到上层的模板中，还可以传递参数到上层的模板中，被加载的模板需要留下占位符准备嵌套其他的rebase的模板\n",
    "        * tpl_name是被集成的tpl文件的名称可以不用加tpl后缀\n",
    "        * 之后的kargvs是传递给我们之前的被继承的tpl文件的参数，用逗号分割\n",
    "    * 一般都是写一个最底层的模板等待被其他的模板继承使用，减少重复代码，将层次结构类似的HTML代码整合起来，形成继承关系代码复用\n",
    "    ```\n",
    "    这里我们集成上面的base.tpl模板文件\n",
    "    <p>%rebase base title='替换原来的linux',name='lantian'\n",
    "    ```"
   ]
  },
  {
   "cell_type": "markdown",
   "metadata": {},
   "source": [
    "## 静态资源\n",
    "1. **static_file函数可以用来家在本地的文件到我们的浏览器上**\n",
    "2. 流程\n",
    "    * 使用动态路由匹配对应的文件（这里的路由使用src的属性发起的）\n",
    "    * static_file（filename , path）加载对应的文件到浏览器上\n",
    "        * filename是动态路由的动态文件名\n",
    "        * path是我们制定的文件名所在的目录的绝对路径"
   ]
  },
  {
   "cell_type": "code",
   "execution_count": 2,
   "metadata": {
    "collapsed": true
   },
   "outputs": [],
   "source": [
    "'''\n",
    "index.tpl\n",
    "<html>\n",
    "  <body>\n",
    "    这里的路由跳转到/images/stars.jpeg，启动我们的server函数执行返回本机图片资源\n",
    "    <img src='/images/stars.jpeg'>\n",
    "  </body>\n",
    "</html>\n",
    "'''\n",
    "from bottle import static_file , route , template , run\n",
    "\n",
    "@route('/images/<filename:re:.*\\.jpeg>')    # 这里的正则表达是的使用技巧是可以使用|来制定多种后缀的资源文件\n",
    "def server(filename):\n",
    "    return static_file(filename , 'path on the computer for the photo of .jpeg')\n",
    "\n",
    "@route('/')    # 根的路径匹配\n",
    "def index():\n",
    "    return template('index')    # 使用index的模板\n",
    "\n",
    "run(host = '127.0.0.1' , port = '8888')"
   ]
  },
  {
   "cell_type": "markdown",
   "metadata": {},
   "source": [
    "## 文件下载\n",
    "1. 对于函数**static_file('...' , '...' , download = '...')**\n",
    "2. 在当前的醒目的py文件同目录下创建一个资源目录download用来存储资源文件，在html中使用<a>,href属性路由指向我们的server函数点击可以执行下载"
   ]
  },
  {
   "cell_type": "code",
   "execution_count": 3,
   "metadata": {
    "collapsed": true
   },
   "outputs": [],
   "source": [
    "#!/usr/bin/python3\n",
    "\n",
    "from bottle import route , run\n",
    "from bottle import template , view , static_file\n",
    "\n",
    "@route('/images/<filename:re:.*\\.jpeg>')\n",
    "def server(filename):\n",
    "    return static_file(filename , './download' , download = filename)\n",
    "\n",
    "@route('/')\n",
    "def login():\n",
    "    return template('photo')\n",
    "\n",
    "# run(host = '127.0.0.8' , port = 8888)"
   ]
  }
 ],
 "metadata": {
  "kernelspec": {
   "display_name": "Python 3",
   "language": "python",
   "name": "python3"
  },
  "language_info": {
   "codemirror_mode": {
    "name": "ipython",
    "version": 3
   },
   "file_extension": ".py",
   "mimetype": "text/x-python",
   "name": "python",
   "nbconvert_exporter": "python",
   "pygments_lexer": "ipython3",
   "version": "3.5.2"
  }
 },
 "nbformat": 4,
 "nbformat_minor": 2
}
