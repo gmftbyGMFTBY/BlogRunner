{
 "cells": [
  {
   "cell_type": "markdown",
   "metadata": {},
   "source": [
    "# Bottle基础简介\n",
    "bottle是一个轻量级Python Web框架，只依赖Python的标准库"
   ]
  },
  {
   "cell_type": "code",
   "execution_count": 1,
   "metadata": {
    "collapsed": false
   },
   "outputs": [
    {
     "data": {
      "text/plain": [
       "'0.12.13'"
      ]
     },
     "execution_count": 1,
     "metadata": {},
     "output_type": "execute_result"
    }
   ],
   "source": [
    "import bottle\n",
    "bottle.__version__"
   ]
  },
  {
   "cell_type": "markdown",
   "metadata": {},
   "source": [
    "简单示例和分析 :\n",
    "1. 首先导入必要的库，route , run , template\n",
    "2. 用装饰器定义路由是'/hello/<name>'代表在/hello/之后的任何的url请求都会被这个函数的返回值响应病返回对应的网页内容(这里返回的是一个b标签)\n",
    "3. 使用template构建模板\n",
    "4. 使用run运行我们的服务端进程，端口是8080,ip是本地的ip地址(127.0.0.1 / localhost)"
   ]
  },
  {
   "cell_type": "code",
   "execution_count": 2,
   "metadata": {
    "collapsed": false
   },
   "outputs": [],
   "source": [
    "# 在浏览器的（127.0.0.2）8080端口打开网页浏览，路径是/hello/world ... 就可以查看到对应的响应网页内容\n",
    "from bottle import route, run, template\n",
    "\n",
    "@route('/hello/<name>')\n",
    "def index(name):\n",
    "    return template('<b>Hello {{name}}</b>!', name=name)\n",
    "\n",
    "# run(host='127.0.0.2', port=8080)"
   ]
  },
  {
   "cell_type": "markdown",
   "metadata": {},
   "source": [
    "* route路由  \n",
    "route() 函数将一段代码绑定到一个 URL，在这个例子中，我们将 hello() 函数绑定给了 /hello。 我们称之为 route (也是该修饰器的函数名)，这也是 Bottle 框架最重要的开发理念。在浏览器请求一个 URL 的时候，框架自动调用与之相应的函数，**接着将函数的返回值发送给浏览器**  \n",
    "* Bottle实例和默认应用  \n",
    "我们需要如果想要创建一个应用(可以理解成是一个服务器进程的实例)，需要生成一个`Bottle`类的实例，但是我们有时候通常在装饰器中不会添加所谓的应用名称，这样本质上实在第一次调用route()的时候创建了以默认的匿名实例Bottle，之后的所有的装饰器的修饰都是针对这个默认的应用的，除非你指明了一个新的应用的名称"
   ]
  },
  {
   "cell_type": "code",
   "execution_count": null,
   "metadata": {
    "collapsed": true
   },
   "outputs": [],
   "source": [
    "from bottle import Bottle , run \n",
    "app = Bottle()    # \n",
    "\n",
    "@app.route('/hello')    # 这个是app应用的装饰器的函数,上面的那个代码块的示例是默认应用的装饰器函数\n",
    "def hello():\n",
    "    return \"Hello World!\"\n",
    "\n",
    "# run(app, host='localhost', port=8080)"
   ]
  },
  {
   "cell_type": "markdown",
   "metadata": {},
   "source": [
    "* route路由\n",
    "    * 所谓的装饰器实际上是给我们的应用添加了一个URL路径的映射，将这个URL路径和某一个具体的回调函数联系了起来\n",
    "    * 回调函数和我们的URL的路由的关系是**一对多的**,也就是说我们的一个回调函数可以绑定给多个URL路径\n",
    "* 动态route  \n",
    "    1. 包含通配符的route，我们称之为动态route(与之对应的是静态route)，它能匹配多个URL地址(但是不能匹配'/'包含在内的路径)。一个通配符包含在一对尖括号里面(像这样 <name> )，通配符之间用”/”分隔开来。如果我们将URL定义为 /hello/《name》 这样，那么它就能匹配 /hello/alice 和 /hello/bob 这样的浏览器请求，但不能匹配 /hello , /hello/ 和 /hello/mr/smith 。\n",
    "    2. URL中的通配符都会当作**参数名**传给回调函数，直接在回调函数中使用（如下的name）\n",
    "    3. 过滤器：  \n",
    "    过滤器 (Filter) 可被用来定义特殊类型的通配符，在通配符给回调函数之前，先自动转换通配符类型。包含过滤器的通配符定义一般像 name:filter 或 name:filter:config。 config 部分是可选的，其语法由你使用的过滤器决定。\n",
    "        * :int ： 匹配数字并自动的转成数字\n",
    "        * :float : 同上\n",
    "        * :path : 匹配路径(包含匹配/)\n",
    "        * :re ： 配合config匹配"
   ]
  },
  {
   "cell_type": "code",
   "execution_count": null,
   "metadata": {
    "collapsed": false
   },
   "outputs": [],
   "source": [
    "from bottle import Bottle , route , template , run\n",
    "@route('/')\n",
    "@route('/hello/<name>')\n",
    "def greet(name='Stranger'):     # 定义了默认的变量\n",
    "    return template('Hello {{name}}, how are you?', name=name)\n",
    "\n",
    "@route('/gmftby/<id:int>')\n",
    "def test(id):\n",
    "    assert isinstance(id , int)    # 如果是int不变，不是int报错\n",
    "\n",
    "@route('/gmftby/<name:re:[a-z]+>')\n",
    "def retest(name):\n",
    "    return template('<b>{{name}}</b>' , name = name)\n",
    "# run(host = 'localhost' , port = 8080)"
   ]
  },
  {
   "cell_type": "markdown",
   "metadata": {
    "collapsed": true
   },
   "source": [
    "* HTTP请求的方法  \n",
    "    1. 默认使用GET方法，可以选择使用方法 : POST, PUT, DELETE , PATCH等\n",
    "    2. POST方法一般用于HTML表单的提交\n",
    "    3. 通过给 route()函数指定 method 参数**或**使用以下5种装饰器： get(), post(), put(), delete() 或 patch()\n",
    "    4. 特殊的请求方法 HEAD / ANY : \n",
    "        * HEAD : HEAD请求被响应GET请求的route来处理,获取相应的数据不会去获取页面的正文\n",
    "        * ANY : 在没有其它route的时候，监听ANY方法的route会匹配所有请求,但仅限于没有其它route来匹配原先的请求的情况"
   ]
  },
  {
   "cell_type": "code",
   "execution_count": null,
   "metadata": {
    "collapsed": true
   },
   "outputs": [],
   "source": [
    "from bottle import Bottle , get, post, request , route # or route\n",
    "\n",
    "def check_login(username , password):\n",
    "    return False\n",
    "\n",
    "app = Bottle()\n",
    "\n",
    "# 作为服务器响应GET请求\n",
    "@app.get('/login') # or @route('/login')\n",
    "def login():\n",
    "    return '''\n",
    "        <form action=\"/login\" method=\"post\">\n",
    "            Username: <input name=\"username\" type=\"text\" />\n",
    "            Password: <input name=\"password\" type=\"password\" />\n",
    "            <input value=\"Login\" type=\"submit\" />\n",
    "        </form>\n",
    "    '''\n",
    "\n",
    "# 作为服务器响应POST请求\n",
    "@app.route('/login' , method = 'POST') # or @route('/login', method='POST')\n",
    "def do_login():\n",
    "    username = request.forms.get('username')\n",
    "    password = request.forms.get('password')\n",
    "    if check_login(username, password):\n",
    "        return \"<p>Your login information was correct.</p>\"\n",
    "    else:\n",
    "        return \"<p>Login failed.</p>\"\n",
    "\n",
    "# 匹配没有被任何route抓取的url\n",
    "@app.route('/forany' , method = 'ANY')\n",
    "def for_any():\n",
    "    # 需要注意的是，没有要模板进去的变量必须直接返回对应的字符串，否则会运行失败，就像下面这样，不可以使用template\n",
    "    return '<b>this sentence is for any!</b>'\n",
    "# run(app , host = 'localhost' , port = 8080)"
   ]
  },
  {
   "cell_type": "markdown",
   "metadata": {},
   "source": [
    "* 静态文件映射  \n",
    "    * static_file(filename , path = '...'):  \n",
    "    用于在本地的文件浏览器中打开本地的文件，包括图片和其他的文件，path是制定在电脑上的文件的目录的地址，filename是要打开的文件的名称   \n",
    "    path建议使用绝对路径   \n",
    "* 错误页面  \n",
    "    1. 如果访问出错，我们可以使用error()函数自定义我们的错误页面\n",
    "    2. 传给error404函数的唯一参数，是一个 HTTPError 对象的实例\n",
    "    3. 只有在你的应用返回或raise一个 HTTPError 异常的时候(就像 abort() 函数那样)，处理Error的函数才会被调用\n",
    "    4. abort()函数是产生HTTP错误的捷径\n",
    "    5. redirect()函数可以重定向错误的页面到一个可能的想要去的页面\n",
    "    6. abort / redirect函数都会抛出HTTPError异常"
   ]
  },
  {
   "cell_type": "code",
   "execution_count": null,
   "metadata": {
    "collapsed": true
   },
   "outputs": [],
   "source": [
    "from bottle import route, abort , redirect\n",
    "@route('/restricted')\n",
    "def restricted():\n",
    "    redirect('/new')    # 重定向到下一个/new路由上\n",
    "@route('/new')\n",
    "def new():    # /new路由弹出888的异常，异常消息是mmp\n",
    "    abort(888 , 'mmp'）    # 也可以是一个正常的页面\n",
    "run(host = '127.0.0.1' , port = 1234)"
   ]
  },
  {
   "cell_type": "code",
   "execution_count": null,
   "metadata": {
    "collapsed": true
   },
   "outputs": [],
   "source": [
    "from bottle import error , HTTPError\n",
    "@error(404)\n",
    "def error404(error):\n",
    "    return 'Nothing here, sorry'\n",
    "\n",
    "@route('/create/404')    # 3.那里说的，这里触发了error404函数的调用\n",
    "def create404():\n",
    "    raise HTTPError(404)\n",
    "# run(host = '127.0.0.2' , port = 8888)"
   ]
  },
  {
   "cell_type": "markdown",
   "metadata": {},
   "source": [
    "* 返回的响应的内容\n",
    "    1. 字符串 : （非Unicode编码）,可以为空,Unicode被自动转化成UTF8，字符串优先被处理，而不是当做文件对对象来处理(有顺序的因素在里面)\n",
    "    2. 字典 : Python中的字典类型(或其子类)会被自动转换为JSON字符串\n",
    "    3. Bytes String : Bottle将字符串当作一个整体来返回(而不是按字符来遍历)，并根据字符串长度添加 Content-Length 字段,节省传输流量\n",
    "    4. HTTPError : 如上\n",
    "    5. isinstance : 调试使用\n",
    "    6. 含有read函数的任何文件对象\n",
    "    7. 迭代器和yield ： 只要该对象返回的是字节型字符串，unicode字符串， HTTPError 或 HTTPResponse 实例。不支持嵌套iterable对象\n",
    "* 改变默认编码方式\n",
    "    1. 可在 Response.content_type 属性中修改来决定编码unicode字符串的方式\n",
    "* Response对象  \n",
    "    诸如HTTP状态码，HTTP响应头，用户cookie等元数据都保存在一个名字为 response 的对象里面，接着被传输给浏览器.你可直接操作这些元数据或使用一些更方便的函数(你发送的)\n",
    "    * 状态码  \n",
    "    HTTP状态码控制着浏览器的行为，默认为 200 OK 。多数情况下，你不必手动修改 Response.status 的值，可使用 abort() 函数或return一个 HTTPResponse 实例(带有合适的状态码)。虽然所有整数都可当作状态码返回，但浏览器不知道如何处理 HTTP标准 中定义的那些状态码之外的数字，你也破坏了大家约定的标准。  \n",
    "    * 响应头  \n",
    "        1. Response.set_header() : Cache-Control 和 Location 之类的响应头通过 Response.set_header() 来定义。这个方法接受两个参数，一个是响应头的名字，一个是它的值，名字是大小写敏感的。\n",
    "        2. Response.add_header() : 特殊的头信息可以多次的add定义和添加\n",
    "        3. Response.get_cookies(name) : 以类似字典的方式获取cookies\n",
    "        4. Response.set_cookies(name , value) : 设置cookies"
   ]
  },
  {
   "cell_type": "code",
   "execution_count": null,
   "metadata": {
    "collapsed": true
   },
   "outputs": [],
   "source": [
    "from bottle import response\n",
    "@route('/latin9')\n",
    "def get_latin():\n",
    "    response.content_type = 'text/html; charset=latin9'\n",
    "    return u'ISO-8859-15 is also known as latin9.'"
   ]
  },
  {
   "cell_type": "code",
   "execution_count": null,
   "metadata": {
    "collapsed": true
   },
   "outputs": [],
   "source": [
    "@route('/wiki/<page>')\n",
    "def wiki(page):\n",
    "    response.set_header('Content-Language', 'en')"
   ]
  },
  {
   "cell_type": "markdown",
   "metadata": {},
   "source": [
    "* 请求数据(POST)  \n",
    "    1. 可通过全局的 **request** 对象来访问Cookies，HTTP头，**HTML的form表单字段，以及其它的请求数据**，这个特殊的对象总是指向 当前 的请求，即使在同时处理多个客户端连接的多线程情况下\n",
    "    2. request :\n",
    "        * request.cookies :   \n",
    "        FormsDict : Bottle使用了一个特殊的字典来储存表单数据和cookies。 FormsDict 表现得像一个普通的字典，但提供了更方便的额外功能\n",
    "        * request.header  :   \n",
    "        所有客户端发送过来的HTTP头(例如 Referer, Agent 和 Accept-Language),可以被request访问到\n",
    "        * request.query :  \n",
    "        查询字符串(例如 /forum?id=1&page=5 )一般用于向服务器传输键值对(id = 1 , page = 5)\n",
    "        * request.forms :   \n",
    "            1. HTML表单的结构\n",
    "            ```HTML\n",
    "            <form action=\"/login\" method=\"post\">\n",
    "                Username: <input name=\"username\" type=\"text\" />\n",
    "                Password: <input name=\"password\" type=\"password\" />\n",
    "                <input value=\"Login\" type=\"submit\" />\n",
    "            </form>\n",
    "            ```\n",
    "            2. action制定了route , method制定了方法，如果使用get那么数据会被明文附加到url之后，建议使用post安全\n",
    "            ```python\n",
    "            @route('/login', method='POST')\n",
    "            def do_login():\n",
    "                username = request.forms.get('username')\n",
    "                password = request.forms.get('password')\n",
    "                if check_login(username, password):\n",
    "                    return \"<p>Your login information was correct.</p>\"\n",
    "                else:\n",
    "                    return \"<p>Login failed.</p>\"\n",
    "            ```\n",
    "        * request.files 文件上传:  \n",
    "        ```python\n",
    "        @route('/upload', method='POST')\n",
    "        def do_upload():\n",
    "            category   = request.forms.get('category')\n",
    "            upload     = request.files.get('upload')\n",
    "        ```\n",
    "            1. 首先需要小心的是action中的http都要写全了，否则会调用默认的file:///...\n",
    "            2. enctype : 表示编码表单(上传文件)数据的方式\n",
    "            3. input标签中的text / file是HTML中的固定用法，可以记住\n",
    "            4. 这样的话，我们的数据就会被发送到http://127.0.0.1:1234端口上的/upload路由上了，之后可以用bottle对路由捕获并处理\n",
    "        \n",
    "        ```HTML\n",
    "        <html>\n",
    "        <head></head>\n",
    "        <body>\n",
    "            <form action=\"http://127.0.0.1:1234/upload\" method=\"post\" enctype=\"multipart/form-data\">\n",
    "              Category:      <input type=\"text\" name=\"category\" />\n",
    "              Select a file: <input type=\"file\" name=\"upload\" />\n",
    "              <input type=\"submit\" value=\"Start upload\" />\n",
    "            </form>\n",
    "        </body>\n",
    "        </html>\n",
    "        ```\n",
    "        \n",
    "        ```Python\n",
    "        upload.save(save_path)    # 可以将我们用户上传的文件保存在save_path路径中\n",
    "        upload.filename    # 客户传上文件的文件原始名\n",
    "        upload.file    # 直接返回用户上传的文件对象，用于对文件内容进行读取和分析\n",
    "        upload.content_type   # 自动检测文件是什么类型的文件\n",
    "        ```\n",
    "        对于FileUpload.save函数 :   \n",
    "        **save(self, destination, overwrite=False, chunk_size=65536)**  \n",
    "        将文件内容保存到对应的destination磁盘路径 \n",
    "        :param overwrite: 覆盖已存在的同名文件  \n",
    "        :param chunk_size: 一次最多读取的数据量64KB  "
   ]
  },
  {
   "cell_type": "code",
   "execution_count": null,
   "metadata": {
    "collapsed": true
   },
   "outputs": [],
   "source": [
    "from bottle import route, request, response\n",
    "# 利用cookies进行计数\n",
    "@route('/counter')\n",
    "def counter():\n",
    "    count = int( request.cookies.get('counter', '0') )\n",
    "    count += 1\n",
    "    response.set_cookie('counter', str(count))\n",
    "    return 'You visited this page %d times' % count"
   ]
  },
  {
   "cell_type": "code",
   "execution_count": null,
   "metadata": {
    "collapsed": true
   },
   "outputs": [],
   "source": [
    "from bottle import route, request\n",
    "@route('/is_ajax')\n",
    "def is_ajax():\n",
    "    if request.headers.get('X-Requested-With') == 'XMLHttpRequest':\n",
    "        return 'This is an AJAX request'\n",
    "    else:\n",
    "        return 'This is a normal request'"
   ]
  },
  {
   "cell_type": "code",
   "execution_count": null,
   "metadata": {
    "collapsed": true
   },
   "outputs": [],
   "source": [
    "from bottle import route, request, response, template\n",
    "@route('/forum')    # 在浏览器访问的时候后面直接跟上/forum?id=1&page=4可以查看效果\n",
    "def display_forum():\n",
    "    forum_id = request.query.id\n",
    "    page = request.query.page or '1'\n",
    "    return template('Forum ID: {{id}} (page {{page}})', id=forum_id, page=page)\n",
    "# run(host = '127.0.0.1' , port = 1234)"
   ]
  },
  {
   "cell_type": "markdown",
   "metadata": {},
   "source": [
    "# Bottle开发基础\n",
    "* 默认应用和自定义应用(服务器进程)"
   ]
  },
  {
   "cell_type": "code",
   "execution_count": null,
   "metadata": {
    "collapsed": true
   },
   "outputs": [],
   "source": [
    "# 默认应用\n",
    "from bottle import Bottle , run , route\n",
    "@route('/some')\n",
    "def test():\n",
    "    return 'here is something!'\n",
    "\n",
    "# run(host = 'localhost' , port = 8080)\n",
    "# 自定义应用\n",
    "app = Bottle()\n",
    "\n",
    "@app.route('/')\n",
    "def hello():\n",
    "    return 'Hello World'\n",
    "\n",
    "# app.run(host = 'localhost' , port = 8080)"
   ]
  }
 ],
 "metadata": {
  "kernelspec": {
   "display_name": "Python 3",
   "language": "python",
   "name": "python3"
  },
  "language_info": {
   "codemirror_mode": {
    "name": "ipython",
    "version": 3
   },
   "file_extension": ".py",
   "mimetype": "text/x-python",
   "name": "python",
   "nbconvert_exporter": "python",
   "pygments_lexer": "ipython3",
   "version": "3.5.2"
  }
 },
 "nbformat": 4,
 "nbformat_minor": 2
}
